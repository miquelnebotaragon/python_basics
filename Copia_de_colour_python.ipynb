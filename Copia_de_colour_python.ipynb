{
  "nbformat": 4,
  "nbformat_minor": 0,
  "metadata": {
    "colab": {
      "name": "Copia de colour_python.ipynb",
      "provenance": [],
      "collapsed_sections": [],
      "authorship_tag": "ABX9TyM5XG8NXkNTDGh1cmBFnZlx",
      "include_colab_link": true
    },
    "kernelspec": {
      "name": "python3",
      "display_name": "Python 3"
    },
    "language_info": {
      "name": "python"
    }
  },
  "cells": [
    {
      "cell_type": "markdown",
      "metadata": {
        "id": "view-in-github",
        "colab_type": "text"
      },
      "source": [
        "<a href=\"https://colab.research.google.com/github/miquelnebotaragon/python_basics/blob/main/Copia_de_colour_python.ipynb\" target=\"_parent\"><img src=\"https://colab.research.google.com/assets/colab-badge.svg\" alt=\"Open In Colab\"/></a>"
      ]
    },
    {
      "cell_type": "markdown",
      "metadata": {
        "id": "EZkW2wtVxoGy"
      },
      "source": [
        "**Lección 2.1**\n",
        "Señala el sujeto y el predicado de las siguientes oraciones utilizando colores. Mira el ejemplo."
      ]
    },
    {
      "cell_type": "markdown",
      "metadata": {
        "id": "ihgSJMnB1LXB"
      },
      "source": [
        "**¿Cómo lo hacemos?**"
      ]
    },
    {
      "cell_type": "code",
      "metadata": {
        "colab": {
          "base_uri": "https://localhost:8080/"
        },
        "id": "EP5ibfgG3xNu",
        "outputId": "39402695-255b-43fb-ba1e-be407ffd9d77"
      },
      "source": [
        "print (\"La siguiente es\", '\\033[1m' + \"negrita.\")"
      ],
      "execution_count": null,
      "outputs": [
        {
          "output_type": "stream",
          "text": [
            "La siguiente es \u001b[1mnegrita.\n"
          ],
          "name": "stdout"
        }
      ]
    },
    {
      "cell_type": "code",
      "metadata": {
        "colab": {
          "base_uri": "https://localhost:8080/"
        },
        "id": "zNslwOoe52Ow",
        "outputId": "74f69127-7271-4183-a874-d7276ea84eca"
      },
      "source": [
        "print (\"Hay que acordarse de\", '\\033[1m' + \"cerrar con '\\\\033[0m'\" + '\\033[0m',\"para evitar que siga pintando en negro.\")"
      ],
      "execution_count": null,
      "outputs": [
        {
          "output_type": "stream",
          "text": [
            "Hay que acordarse de \u001b[1mcerrar con '\\033[0m'\u001b[0m para evitar que siga pintando en negro.\n"
          ],
          "name": "stdout"
        }
      ]
    },
    {
      "cell_type": "code",
      "metadata": {
        "colab": {
          "base_uri": "https://localhost:8080/"
        },
        "id": "PN_mVcQm60kC",
        "outputId": "6ff11e2b-5e62-4fef-fe47-cc95704f1e82"
      },
      "source": [
        "print (\"Podemos utilizar otro como\",'\\033[92m'+ \"este.\")"
      ],
      "execution_count": null,
      "outputs": [
        {
          "output_type": "stream",
          "text": [
            "Podemos utilizar otro como \u001b[92meste.\n"
          ],
          "name": "stdout"
        }
      ]
    },
    {
      "cell_type": "markdown",
      "metadata": {
        "id": "1DB2rZ-H7iBi"
      },
      "source": [
        "Códigos de ejemplo:\n",
        "\n",
        "\n",
        "*   Negrita = '\\033[1m'\n",
        "*   Subrayado = '\\033[4m'\n",
        "\n",
        "*   Rojo = '\\033[91m'\n",
        "*   Verde = '\\033[92m'\n",
        "*   Amarillo = '\\033[93m' \n",
        "*   Azul = '\\033[94m'\n",
        "*   Púrpura = '\\033[95m'\n",
        "*   Cyan = '\\033[96m'\n",
        "\n",
        "*   Finalizar = '\\033[0m'\n",
        " "
      ]
    },
    {
      "cell_type": "markdown",
      "metadata": {
        "id": "23gboUBj-8yw"
      },
      "source": [
        "**¡Empezamos!** Señala en color verde el sujeto de la oración y en azul el predicado.\n",
        "\n",
        "\n",
        "1.   Álvaro lee cada noche.\n",
        "2.   Ellos vuelven rápidamente del colegio.\n",
        "1.   Carlos, Clara y Ana juegan conmigo al tetris.\n",
        "2.   El ratón es de una marca reconocida.\n",
        "1.   Mi móvil está hoy en silencio.\n",
        "2.   Volveré al acabar.\n",
        "\n",
        "\n",
        "\n",
        "\n",
        "\n"
      ]
    }
  ]
}